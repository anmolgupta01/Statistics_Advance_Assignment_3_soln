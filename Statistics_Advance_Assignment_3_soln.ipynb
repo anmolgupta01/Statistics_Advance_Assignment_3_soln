{
 "cells": [
  {
   "cell_type": "markdown",
   "id": "d3a5d15e",
   "metadata": {},
   "source": [
    "# Q1: What is Estimation Statistics? Explain point estimate and interval estimate."
   ]
  },
  {
   "cell_type": "markdown",
   "id": "c34bf209",
   "metadata": {},
   "source": [
    "Estimation statistics is a branch of statistics that deals with the process of estimating population parameters (such as the population mean, population proportion, population variance, etc.) based on sample data. It involves using information from a sample to make educated guesses or estimates about unknown population parameters. Estimation is a fundamental part of statistical analysis and is often used in research, quality control, and decision-making.\n",
    "\n",
    "There are two common types of estimation in statistics: point estimation and interval estimation.\n",
    "\n",
    "Point Estimate:\n",
    "\n",
    "A point estimate is a single value or statistic calculated from a sample data set that is used to estimate a specific population parameter.\n",
    "Point estimates provide a \"best guess\" of the population parameter but do not give any information about the range of possible values.\n",
    "The most common point estimate is the sample mean (x̄), which is used to estimate the population mean (μ). Other examples of point estimates include the sample proportion (p̂) for estimating the population proportion and the sample standard deviation (s) for estimating the population standard deviation.\n",
    "Example:\n",
    "\n",
    "Suppose you want to estimate the average salary of all employees in a company. You take a random sample of 100 employees and calculate the sample mean salary (x̄) as $50,000. This $50,000 is a point estimate of the population mean salary (μ).\n",
    "Interval Estimate (Confidence Interval):\n",
    "\n",
    "An interval estimate, also known as a confidence interval, provides a range of values within which the population parameter is likely to fall, along with a level of confidence associated with the estimate.\n",
    "Interval estimates are more informative than point estimates because they provide a sense of the uncertainty or variability associated with the estimate.\n",
    "The confidence interval is calculated using the point estimate, a margin of error, and a chosen confidence level (e.g., 95% confidence interval).\n",
    "Example:\n",
    "\n",
    "Using the same example as above, in addition to calculating the point estimate (x̄ = $50,000), you also calculate a 95% confidence interval for the population mean salary, which might be ($48,000, $52,000). This means you are 95% confident that the true population mean salary falls within this interval.\n",
    "The choice between point estimation and interval estimation depends on the level of precision and information required. Point estimates are simpler to calculate and interpret but provide limited information about the variability of the estimate. Interval estimates, on the other hand, provide a range of values that take into account the inherent uncertainty in estimation, making them more informative for decision-making and drawing conclusions about population parameters."
   ]
  },
  {
   "cell_type": "markdown",
   "id": "65a0ed24",
   "metadata": {},
   "source": [
    "# Q2. Write a Python function to estimate the population mean using a sample mean and standard deviation."
   ]
  },
  {
   "cell_type": "code",
   "execution_count": 1,
   "id": "f249b6b7",
   "metadata": {},
   "outputs": [
    {
     "name": "stdout",
     "output_type": "stream",
     "text": [
      "Estimated population mean (95% confidence interval): 48.04 to 51.96\n"
     ]
    }
   ],
   "source": [
    "import math\n",
    "\n",
    "def estimate_population_mean(sample_mean, sample_stddev, sample_size):\n",
    "    \"\"\"\n",
    "    Estimate the population mean using a sample mean, sample standard deviation, and sample size.\n",
    "\n",
    "    Args:\n",
    "    sample_mean (float): The sample mean.\n",
    "    sample_stddev (float): The sample standard deviation.\n",
    "    sample_size (int): The sample size.\n",
    "\n",
    "    Returns:\n",
    "    float: Estimated population mean.\n",
    "    \"\"\"\n",
    "    # Calculate the standard error of the mean (SEM)\n",
    "    sem = sample_stddev / math.sqrt(sample_size)\n",
    "    \n",
    "    # Calculate the margin of error (MOE) for a desired confidence level (e.g., 95%)\n",
    "    # For a 95% confidence interval, you can use a Z-score of 1.96\n",
    "    z_score = 1.96  # For a 95% confidence interval\n",
    "    margin_of_error = z_score * sem\n",
    "    \n",
    "    # Calculate the lower and upper bounds of the confidence interval\n",
    "    lower_bound = sample_mean - margin_of_error\n",
    "    upper_bound = sample_mean + margin_of_error\n",
    "    \n",
    "    return lower_bound, upper_bound\n",
    "\n",
    "# Example usage:\n",
    "sample_mean = 50.0\n",
    "sample_stddev = 10.0\n",
    "sample_size = 100\n",
    "lower_bound, upper_bound = estimate_population_mean(sample_mean, sample_stddev, sample_size)\n",
    "print(f\"Estimated population mean (95% confidence interval): {lower_bound:.2f} to {upper_bound:.2f}\")\n"
   ]
  },
  {
   "cell_type": "markdown",
   "id": "aa617743",
   "metadata": {},
   "source": [
    "# Q3: What is Hypothesis testing? Why is it used? State the importance of Hypothesis testing."
   ]
  },
  {
   "cell_type": "markdown",
   "id": "a1b5aed1",
   "metadata": {},
   "source": [
    "Hypothesis testing is a fundamental concept in statistics used to make decisions and draw conclusions about populations based on sample data. It involves a systematic process of formulating hypotheses, collecting sample data, and evaluating the evidence to determine whether to accept or reject a specific claim or hypothesis about a population parameter.\n",
    "\n",
    "Here are the key steps involved in hypothesis testing:\n",
    "\n",
    "Formulate Hypotheses:\n",
    "\n",
    "The process begins by defining two mutually exclusive hypotheses:\n",
    "Null Hypothesis (H0): It represents the status quo or the default assumption. It typically states that there is no effect, no difference, or no relationship.\n",
    "Alternative Hypothesis (Ha or H1): It represents the claim or the statement that the researcher aims to test. It suggests a specific effect, difference, or relationship.\n",
    "Collect Data:\n",
    "\n",
    "Data is collected through experiments, surveys, or observations. This data serves as evidence for or against the hypotheses.\n",
    "Statistical Analysis:\n",
    "\n",
    "Statistical methods are used to analyze the data and calculate a test statistic that measures the strength of the evidence against the null hypothesis.\n",
    "Set Significance Level (α):\n",
    "\n",
    "The significance level, denoted as α, represents the probability of making a Type I error (rejecting a true null hypothesis). Common values for α are 0.05 or 0.01, but the choice depends on the desired level of confidence.\n",
    "Compare Test Statistic and Critical Value:\n",
    "\n",
    "The test statistic is compared to a critical value from a statistical distribution (e.g., the z-score or t-score from a normal distribution or t-distribution).\n",
    "If the test statistic falls in the critical region (extreme values), the null hypothesis is rejected in favor of the alternative hypothesis. If it falls in the non-critical region, the null hypothesis is not rejected.\n",
    "Draw a Conclusion:\n",
    "\n",
    "Based on the comparison and the significance level, a conclusion is drawn about whether there is sufficient evidence to reject the null hypothesis or if there is not enough evidence to do so.\n",
    "Importance of Hypothesis Testing:\n",
    "\n",
    "Hypothesis testing serves several crucial purposes in statistical analysis and scientific research:\n",
    "\n",
    "Scientific Inquiry: Hypothesis testing is the cornerstone of scientific inquiry. It allows researchers to test their theories and hypotheses, contributing to the advancement of knowledge.\n",
    "\n",
    "Decision-Making: Hypothesis testing aids decision-making in various fields, including medicine, engineering, business, and social sciences. It helps organizations make informed choices based on empirical evidence.\n",
    "\n",
    "Quality Control: In manufacturing and quality control, hypothesis testing is used to ensure product quality and process efficiency. It helps identify defects, deviations, and areas for improvement.\n",
    "\n",
    "Policy and Regulation: Government agencies and policymakers use hypothesis testing to evaluate the effectiveness of policies, regulations, and interventions.\n",
    "\n",
    "Research Validation: In research studies, hypothesis testing verifies or refutes claims, ensuring the reliability and validity of research findings.\n",
    "\n",
    "Scientific Skepticism: Hypothesis testing encourages scientific skepticism by subjecting claims to rigorous testing and scrutiny, reducing the likelihood of accepting false claims.\n",
    "\n",
    "Quantifying Uncertainty: Hypothesis testing provides a quantitative way to assess uncertainty in research and decision-making.\n",
    "\n",
    "Continuous Improvement: In business and industry, hypothesis testing is a key tool for continuous improvement efforts such as Six Sigma and Lean methodologies."
   ]
  },
  {
   "cell_type": "markdown",
   "id": "374d73d6",
   "metadata": {},
   "source": [
    "# Q4. Create a hypothesis that states whether the average weight of male college students is greater than the average weight of female college students."
   ]
  },
  {
   "cell_type": "markdown",
   "id": "af111080",
   "metadata": {},
   "source": [
    "Null Hypothesis (H0): The average weight of male college students is equal to or less than the average weight of female college students.\n",
    "\n",
    "Alternative Hypothesis (Ha or H1): The average weight of male college students is greater than the average weight of female college students.\n",
    "\n",
    "Symbolically:\n",
    "\n",
    "H0: μ_male ≤ μ_female\n",
    "Ha: μ_male > μ_female\n",
    "\n",
    "In this hypothesis test:\n",
    "\n",
    "H0 represents the null hypothesis, which assumes no difference or that the average weight of male college students is less than or equal to the average weight of female college students.\n",
    "Ha represents the alternative hypothesis, which suggests that the average weight of male college students is greater than the average weight of female college students.\n",
    "This hypothesis could be tested by collecting data on the weights of male and female college students and conducting a statistical test (e.g., t-test or z-test) to determine whether there is sufficient evidence to reject the null hypothesis in favor of the alternative hypothesis, based on the sample data and a chosen significance level (α)."
   ]
  },
  {
   "cell_type": "markdown",
   "id": "8b6b6878",
   "metadata": {},
   "source": [
    "# Q5. Write a Python script to conduct a hypothesis test on the difference between two population means, given a sample from each population."
   ]
  },
  {
   "cell_type": "code",
   "execution_count": 1,
   "id": "8bee63c9",
   "metadata": {},
   "outputs": [
    {
     "name": "stdout",
     "output_type": "stream",
     "text": [
      "T-statistic: 0.5741692517632145\n",
      "P-value: 0.5816333668955778\n",
      "Fail to reject the null hypothesis. There is no significant difference between population means.\n"
     ]
    }
   ],
   "source": [
    "import scipy.stats as stats\n",
    "\n",
    "# Sample data from the two populations\n",
    "sample1 = [25, 30, 35, 40, 45]\n",
    "sample2 = [20, 28, 32, 38, 42]\n",
    "\n",
    "# Define the significance level (alpha)\n",
    "alpha = 0.05\n",
    "\n",
    "# Perform a two-sample t-test assuming equal variances (pooled variance)\n",
    "t_stat, p_value = stats.ttest_ind(sample1, sample2, equal_var=True)\n",
    "\n",
    "# Print the t-statistic and p-value\n",
    "print(f\"T-statistic: {t_stat}\")\n",
    "print(f\"P-value: {p_value}\")\n",
    "\n",
    "# Compare p-value to alpha to make a decision\n",
    "if p_value < alpha:\n",
    "    print(\"Reject the null hypothesis. There is a significant difference between population means.\")\n",
    "else:\n",
    "    print(\"Fail to reject the null hypothesis. There is no significant difference between population means.\")\n"
   ]
  },
  {
   "cell_type": "markdown",
   "id": "692ae32c",
   "metadata": {},
   "source": [
    "# Q6: What is a null and alternative hypothesis? Give some examples."
   ]
  },
  {
   "cell_type": "markdown",
   "id": "deba5628",
   "metadata": {},
   "source": [
    "In hypothesis testing, a **null hypothesis (H0)** and an **alternative hypothesis (Ha or H1)** are two complementary statements that help in making statistical inferences about a population parameter based on sample data. They represent competing claims or hypotheses about the population and guide the hypothesis testing process.\n",
    "\n",
    "1. **Null Hypothesis (H0):**\n",
    "   - The null hypothesis is the default or initial assumption. It typically represents the status quo or a statement of no effect, no difference, or no relationship.\n",
    "   - It is often denoted as H0 and is the hypothesis under evaluation in hypothesis testing.\n",
    "   - In statistical notation, the null hypothesis often includes an equal sign (e.g., μ = 50, p = 0.5) to signify equality or no change.\n",
    "   \n",
    "   Examples:\n",
    "   - H0: The mean height of a certain population is 165 cm.\n",
    "   - H0: The new drug has no effect on blood pressure (mean blood pressure remains the same).\n",
    "   - H0: The proportion of defective products is equal to or less than 5% (p ≤ 0.05).\n",
    "\n",
    "2. **Alternative Hypothesis (Ha or H1):**\n",
    "   - The alternative hypothesis represents the researcher's claim or the statement being tested. It suggests a specific effect, difference, or relationship.\n",
    "   - It is denoted as Ha or sometimes as H1.\n",
    "   - In statistical notation, the alternative hypothesis often includes inequality signs (e.g., μ ≠ 50, p > 0.5) or directional statements indicating the expected effect.\n",
    "   \n",
    "   Examples:\n",
    "   - Ha: The mean height of a certain population is greater than 165 cm.\n",
    "   - Ha: The new drug decreases blood pressure (mean blood pressure decreases).\n",
    "   - Ha: The proportion of defective products is greater than 5% (p > 0.05).\n",
    "\n",
    "In hypothesis testing, the goal is to collect sample data and use statistical methods to determine whether there is enough evidence to reject the null hypothesis in favor of the alternative hypothesis, or if there is insufficient evidence to do so. The result of the hypothesis test can lead to one of the following conclusions:\n",
    "\n",
    "- Reject the null hypothesis: If there is strong evidence against the null hypothesis, it is rejected in favor of the alternative hypothesis. This suggests that the claim made in the alternative hypothesis is supported by the data.\n",
    "\n",
    "- Fail to reject the null hypothesis: If there is not enough evidence to reject the null hypothesis, it is retained. This does not mean that the null hypothesis is proven true; rather, it means that the data do not provide sufficient support to accept the alternative hypothesis.\n",
    "\n",
    "The choice of null and alternative hypotheses depends on the research question and the claim being tested. Hypothesis testing is a fundamental tool in statistical analysis and scientific research for making informed decisions and drawing conclusions based on empirical evidence."
   ]
  },
  {
   "cell_type": "markdown",
   "id": "9031b4ac",
   "metadata": {},
   "source": [
    "# Q7: Write down the steps involved in hypothesis testing."
   ]
  },
  {
   "cell_type": "markdown",
   "id": "4d291c85",
   "metadata": {},
   "source": [
    "Hypothesis testing involves a series of structured steps to determine whether there is sufficient evidence to either reject or fail to reject a null hypothesis (H0) in favor of an alternative hypothesis (Ha or H1). Here are the key steps involved in hypothesis testing:\n",
    "\n",
    "1. **Formulate Hypotheses:**\n",
    "   - Clearly state the null hypothesis (H0), which represents the default assumption or no effect, difference, or relationship.\n",
    "   - Define the alternative hypothesis (Ha or H1), which represents the claim or statement being tested.\n",
    "\n",
    "2. **Collect Data:**\n",
    "   - Collect a sample of data through experiments, surveys, observations, or other data collection methods.\n",
    "\n",
    "3. **Select a Significance Level (Alpha):**\n",
    "   - Choose a significance level (alpha, denoted as α) that represents the probability of making a Type I error (rejecting a true null hypothesis). Common values for α are 0.05 (5%) or 0.01 (1%), but the choice depends on the desired level of confidence.\n",
    "\n",
    "4. **Conduct the Statistical Test:**\n",
    "   - Choose an appropriate statistical test based on the type of data and research question (e.g., t-test, z-test, chi-squared test, ANOVA, regression analysis).\n",
    "   - Calculate the test statistic, which measures the strength of the evidence against the null hypothesis.\n",
    "   \n",
    "5. **Determine the Critical Region:**\n",
    "   - Identify the critical values or critical region of the test statistic based on the chosen significance level (α) and the test's distribution (e.g., t-distribution, chi-squared distribution).\n",
    "   - Determine whether it is a one-tailed or two-tailed test based on the nature of the research question (e.g., testing for equality, testing for a specific direction of effect).\n",
    "\n",
    "6. **Compute the Test Statistic:**\n",
    "   - Calculate the test statistic using the sample data and the chosen statistical test.\n",
    "   - The test statistic provides a quantitative measure of how far the sample result is from what is expected under the null hypothesis.\n",
    "\n",
    "7. **Compare the Test Statistic and Critical Values:**\n",
    "   - Compare the calculated test statistic to the critical values or critical region.\n",
    "   - Determine whether the test statistic falls within the critical region (rejecting the null hypothesis) or outside it (failing to reject the null hypothesis).\n",
    "\n",
    "8. **Calculate the P-Value:**\n",
    "   - Calculate the p-value, which represents the probability of obtaining a test statistic as extreme as or more extreme than the observed result, assuming the null hypothesis is true.\n",
    "   - The p-value is used to assess the strength of evidence against the null hypothesis.\n",
    "\n",
    "9. **Make a Decision:**\n",
    "   - If the p-value is less than or equal to the chosen significance level (α), reject the null hypothesis in favor of the alternative hypothesis.\n",
    "   - If the p-value is greater than α, fail to reject the null hypothesis.\n",
    "\n",
    "10. **Draw a Conclusion:**\n",
    "    - Based on the decision made in step 9, draw a conclusion about whether there is sufficient evidence to support the alternative hypothesis or if there is insufficient evidence to do so.\n",
    "\n",
    "11. **Report Results:**\n",
    "    - Clearly communicate the results of the hypothesis test, including the decision made, the p-value, the significance level, and any relevant statistics or effect sizes.\n",
    "\n",
    "12. **Interpretation and Implications:**\n",
    "    - Interpret the practical and scientific implications of the results in the context of the research question.\n",
    "    - Consider the implications for decision-making and future research.\n",
    "\n",
    "These steps provide a systematic framework for conducting hypothesis tests and making evidence-based conclusions in various fields of research and analysis."
   ]
  },
  {
   "cell_type": "markdown",
   "id": "0018a602",
   "metadata": {},
   "source": [
    "# Q8. Define p-value and explain its significance in hypothesis testing."
   ]
  },
  {
   "cell_type": "markdown",
   "id": "44c4b6c4",
   "metadata": {},
   "source": [
    "The p-value, short for \"probability value,\" is a crucial concept in hypothesis testing. It quantifies the strength of the evidence against the null hypothesis (H0) based on sample data. In essence, the p-value answers the question: \"How likely is it to obtain the observed result or something more extreme, assuming the null hypothesis is true?\"\n",
    "\n",
    "Here's a more detailed explanation of the significance of the p-value in hypothesis testing:\n",
    "\n",
    "Interpreting the p-value:\n",
    "\n",
    "A small p-value (typically ≤ α, the chosen significance level) suggests strong evidence against the null hypothesis. In such cases, researchers often reject the null hypothesis in favor of the alternative hypothesis (Ha).\n",
    "A large p-value (greater than α) suggests weak or insufficient evidence against the null hypothesis. In this scenario, researchers fail to reject the null hypothesis.\n",
    "Relationship with the significance level (α):\n",
    "\n",
    "The choice of α determines the threshold for statistical significance. Common values for α include 0.05 (5%) or 0.01 (1%). A smaller α requires stronger evidence to reject the null hypothesis.\n",
    "If the p-value is less than or equal to α, it indicates that the observed result is statistically significant at the chosen significance level.\n",
    "Direction of the test:\n",
    "\n",
    "In a two-tailed test, the p-value represents the probability of observing results as extreme as or more extreme than the observed result in both tails of the distribution.\n",
    "In a one-tailed test, the p-value focuses on one tail of the distribution, corresponding to a specific direction of effect. The p-value is smaller for a one-tailed test than for a two-tailed test with the same data.\n",
    "Influence on hypothesis testing decisions:\n",
    "\n",
    "If the p-value is smaller than α, you typically reject the null hypothesis, indicating that there is evidence to support the alternative hypothesis.\n",
    "If the p-value is greater than α, you fail to reject the null hypothesis, suggesting that there is not enough evidence to support the alternative hypothesis.\n",
    "Effect size and practical significance:\n",
    "\n",
    "While the p-value is a critical component of hypothesis testing, it does not provide information about the magnitude of the effect or the practical significance of the result.\n",
    "Researchers should also consider effect size measures to assess the practical importance of the findings.\n",
    "Interpretation of p-values:\n",
    "\n",
    "A p-value of 0.05 does not mean that there is a 5% chance that the null hypothesis is true. It indicates that, assuming the null hypothesis is true, there is a 5% chance (or less) of observing the obtained result due to random variability.\n",
    "P-values do not provide information about the probability that the null hypothesis is true or false; they only assess the consistency of the data with the null hypothesis."
   ]
  },
  {
   "cell_type": "markdown",
   "id": "6161af62",
   "metadata": {},
   "source": [
    "# Q9. Generate a Student's t-distribution plot using Python's matplotlib library, with the degrees of freedom parameter set to 10."
   ]
  },
  {
   "cell_type": "code",
   "execution_count": 2,
   "id": "3964180c",
   "metadata": {},
   "outputs": [
    {
     "data": {
      "image/png": "[encoded data removed]",
      "text/plain": [
       "<Figure size 800x500 with 1 Axes>"
      ]
     },
     "metadata": {},
     "output_type": "display_data"
    }
   ],
   "source": [
    "import numpy as np\n",
    "import matplotlib.pyplot as plt\n",
    "from scipy.stats import t\n",
    "\n",
    "# Degrees of freedom\n",
    "df = 10\n",
    "\n",
    "# Generate x values (range of t-distribution)\n",
    "x = np.linspace(-4, 4, 400)\n",
    "\n",
    "# Calculate the probability density function (PDF) for each x value\n",
    "pdf = t.pdf(x, df)\n",
    "\n",
    "# Create the plot\n",
    "plt.figure(figsize=(8, 5))\n",
    "plt.plot(x, pdf, label=f\"t-distribution (df = {df})\")\n",
    "plt.title(\"Student's t-Distribution\")\n",
    "plt.xlabel(\"x\")\n",
    "plt.ylabel(\"PDF\")\n",
    "plt.legend()\n",
    "plt.grid(True)\n",
    "\n",
    "# Show the plot\n",
    "plt.show()\n"
   ]
  },
  {
   "cell_type": "markdown",
   "id": "280d2e9a",
   "metadata": {},
   "source": [
    "# Q10. Write a Python program to calculate the two-sample t-test for independent samples, given two random samples of equal size and a null hypothesis that the population means are equal."
   ]
  },
  {
   "cell_type": "code",
   "execution_count": 2,
   "id": "cfed0f10",
   "metadata": {},
   "outputs": [
    {
     "name": "stdout",
     "output_type": "stream",
     "text": [
      "Null Hypothesis: Population means are equal\n",
      "Sample 1 Mean: 55.69\n",
      "Sample 2 Mean: 50.56\n",
      "T-statistic: 1.53\n",
      "P-value: 0.1337\n",
      "Fail to reject the null hypothesis. There is no significant difference between population means.\n"
     ]
    }
   ],
   "source": [
    "import numpy as np\n",
    "import scipy.stats as stats\n",
    "\n",
    "# Generate two random samples of equal size\n",
    "sample_size = 20\n",
    "np.random.seed(0)  # For reproducibility\n",
    "sample1 = np.random.normal(loc=50, scale=10, size=sample_size)\n",
    "sample2 = np.random.normal(loc=50, scale=10, size=sample_size)\n",
    "\n",
    "# Define the null hypothesis: population means are equal\n",
    "null_hypothesis = \"Population means are equal\"\n",
    "\n",
    "# Perform a two-sample t-test assuming equal variances (pooled variance)\n",
    "t_stat, p_value = stats.ttest_ind(sample1, sample2, equal_var=True)\n",
    "\n",
    "# Print the results\n",
    "print(f\"Null Hypothesis: {null_hypothesis}\")\n",
    "print(f\"Sample 1 Mean: {np.mean(sample1):.2f}\")\n",
    "print(f\"Sample 2 Mean: {np.mean(sample2):.2f}\")\n",
    "print(f\"T-statistic: {t_stat:.2f}\")\n",
    "print(f\"P-value: {p_value:.4f}\")\n",
    "\n",
    "# Compare p-value to alpha (e.g., 0.05) to make a decision\n",
    "alpha = 0.05\n",
    "if p_value < alpha:\n",
    "    print(\"Reject the null hypothesis. There is a significant difference between population means.\")\n",
    "else:\n",
    "    print(\"Fail to reject the null hypothesis. There is no significant difference between population means.\")\n"
   ]
  },
  {
   "cell_type": "markdown",
   "id": "37708a57",
   "metadata": {},
   "source": [
    "# Q11: What is Student’s t distribution? When to use the t-Distribution."
   ]
  },
  {
   "cell_type": "markdown",
   "id": "273fe2fb",
   "metadata": {},
   "source": [
    "Student's t-distribution, often referred to as simply the t-distribution, is a probability distribution that is similar in shape to the normal (Gaussian) distribution but has heavier tails. It is used primarily in statistical inference when dealing with small sample sizes or when the population standard deviation is unknown.\n",
    "\n",
    "Key characteristics of the t-distribution:\n",
    "\n",
    "Symmetry: Like the normal distribution, the t-distribution is symmetric around its mean.\n",
    "\n",
    "Heavier Tails: The t-distribution has thicker tails compared to the normal distribution. This means that extreme values are more likely to occur in a t-distribution, making it suitable for dealing with uncertainties in smaller samples.\n",
    "\n",
    "Shape Parameter: The shape of the t-distribution is determined by a single parameter called degrees of freedom (df or ν). As df increases, the t-distribution approaches the normal distribution.\n",
    "\n",
    "When to use the t-distribution:\n",
    "\n",
    "The t-distribution is used in the following scenarios:\n",
    "\n",
    "Small Sample Sizes: When dealing with small sample sizes (typically less than 30) where the population standard deviation is unknown, the t-distribution is used to make inferences about population parameters (e.g., population mean).\n",
    "\n",
    "Estimation: In situations where you need to estimate a population parameter (e.g., mean) from a sample and you do not know the population standard deviation, you use the t-distribution to construct confidence intervals.\n",
    "\n",
    "Hypothesis Testing: In hypothesis testing, especially when comparing sample means from small samples, the t-distribution is used to calculate test statistics and p-values.\n",
    "\n",
    "Quality Control: When analyzing quality control data, such as a small sample of product measurements, the t-distribution may be used to assess whether the process is within specified limits.\n",
    "\n",
    "Regression Analysis: In linear regression, when estimating the coefficients of a regression model using small sample sizes, t-distributions may be used for hypothesis tests related to the coefficients.\n",
    "\n",
    "Meta-Analysis: In meta-analysis, where studies with varying sample sizes are combined, the t-distribution is often used to account for the variability in individual study estimates."
   ]
  },
  {
   "cell_type": "markdown",
   "id": "0ca46def",
   "metadata": {},
   "source": [
    "# Q12: What is t-statistic? State the formula for t-statistic"
   ]
  },
  {
   "cell_type": "markdown",
   "id": "5b3bb044",
   "metadata": {},
   "source": [
    "The t-statistic, also known as the t-value, is a statistical measure that quantifies how many standard errors a sample mean is away from the population mean. It is commonly used in hypothesis testing and constructing confidence intervals, especially when dealing with small sample sizes and when the population standard deviation is unknown.\n",
    "\n",
    "The formula for calculating the t-statistic for a sample mean is:\n",
    "\n",
    "t = (Sample Mean−Population Mean)/Standard Error of the Mean\n",
    "\n",
    "\n",
    "Where:\n",
    "\n",
    "Sample Mean: This is the mean of the sample data you've collected.\n",
    "Population Mean: This is the hypothesized mean under the null hypothesis or the value you are comparing your sample mean to.\n",
    "Standard Error of the Mean (SEM): The standard error of the mean is a measure of how much the sample mean is expected to vary from one sample to another. It is calculated as the population standard deviation (σ) divided by the square root of the sample size (n). The formula is:\n",
    "\n",
    "SEM = σ/√n\n",
    "\n",
    "\n",
    "\n",
    "Here, σ represents the population standard deviation, and n represents the sample size.\n",
    "\n",
    "The t-statistic essentially measures how many standard errors your sample mean is away from the population mean. A larger t-statistic suggests that the sample mean is further from the population mean, potentially indicating a stronger deviation from what would be expected due to random sampling variability.\n",
    "\n",
    "In hypothesis testing, the t-statistic is used to determine whether the observed difference between the sample mean and the population mean is statistically significant. It is compared to critical values from the t-distribution to assess whether the difference is larger than what would be expected by chance. If the t-statistic is sufficiently large, it can lead to the rejection of the null hypothesis in favor of the alternative hypothesis."
   ]
  },
  {
   "cell_type": "markdown",
   "id": "25e8ca13",
   "metadata": {},
   "source": [
    "# Q13. A coffee shop owner wants to estimate the average daily revenue for their shop. They take a random sample of 50 days and find the sample mean revenue to be  $500  with  a  standard  deviation  of  $50. Estimate the population mean revenue with a 95% confidence interval."
   ]
  },
  {
   "cell_type": "code",
   "execution_count": 3,
   "id": "c597bb94",
   "metadata": {},
   "outputs": [
    {
     "name": "stdout",
     "output_type": "stream",
     "text": [
      "Sample Mean: 500.00\n",
      "Sample Size: 50\n",
      "Confidence Level: 95.00%\n",
      "Standard Error: 7.07\n",
      "Critical Value (Z): 1.96\n",
      "Margin of Error: 13.86\n",
      "95% Confidence Interval: 486.14 to 513.86\n"
     ]
    }
   ],
   "source": [
    "import math\n",
    "\n",
    "# Sample data\n",
    "sample_mean = 500  # Sample mean revenue\n",
    "sample_size = 50   # Sample size\n",
    "confidence_level = 0.95  # 95% confidence level\n",
    "\n",
    "# Standard deviation (you should replace this with the actual value)\n",
    "sample_standard_deviation = 50  # Hypothetical standard deviation for demonstration\n",
    "\n",
    "# Calculate the standard error\n",
    "standard_error = sample_standard_deviation / math.sqrt(sample_size)\n",
    "\n",
    "# Calculate the critical value (Z) for a 95% confidence interval\n",
    "# For a 95% confidence level, Z is approximately 1.96 (two-tailed test)\n",
    "z_value = 1.96\n",
    "\n",
    "# Calculate the margin of error\n",
    "margin_of_error = z_value * standard_error\n",
    "\n",
    "# Calculate the confidence interval\n",
    "lower_bound = sample_mean - margin_of_error\n",
    "upper_bound = sample_mean + margin_of_error\n",
    "\n",
    "# Print the results\n",
    "print(\"Sample Mean: {:.2f}\".format(sample_mean))\n",
    "print(\"Sample Size: {}\".format(sample_size))\n",
    "print(\"Confidence Level: {:.2f}%\".format(confidence_level * 100))\n",
    "print(\"Standard Error: {:.2f}\".format(standard_error))\n",
    "print(\"Critical Value (Z): {:.2f}\".format(z_value))\n",
    "print(\"Margin of Error: {:.2f}\".format(margin_of_error))\n",
    "print(\"95% Confidence Interval: {:.2f} to {:.2f}\".format(lower_bound, upper_bound))\n"
   ]
  },
  {
   "cell_type": "markdown",
   "id": "1e07b2c4",
   "metadata": {},
   "source": [
    "# Q14. A researcher hypothesizes that a new drug will decrease blood pressure by 10 mmHg. They conduct a clinical trial with 100 patients and find that the sample mean decrease in blood pressure is 8 mmHg with a standard deviation of 3 mmHg. Test the hypothesis with a significance level of 0.05."
   ]
  },
  {
   "cell_type": "code",
   "execution_count": 4,
   "id": "5b2686b1",
   "metadata": {},
   "outputs": [
    {
     "name": "stdout",
     "output_type": "stream",
     "text": [
      "T-statistic: -6.67\n",
      "Degrees of Freedom: 99\n",
      "Critical t-value: 1.98\n",
      "P-value: 0.0000\n",
      "Reject the null hypothesis. There is evidence that the drug decreases blood pressure by 10 mmHg.\n"
     ]
    }
   ],
   "source": [
    "import scipy.stats as stats\n",
    "\n",
    "# Given data\n",
    "sample_mean = 8        # Sample mean decrease in blood pressure\n",
    "population_mean = 10   # Hypothesized population mean decrease\n",
    "sample_std_dev = 3     # Sample standard deviation\n",
    "sample_size = 100      # Sample size\n",
    "alpha = 0.05           # Significance level\n",
    "\n",
    "# Calculate the standard error of the mean (SEM)\n",
    "sem = sample_std_dev / (sample_size ** 0.5)\n",
    "\n",
    "# Calculate the t-statistic\n",
    "t_stat = (sample_mean - population_mean) / sem\n",
    "\n",
    "# Calculate the degrees of freedom\n",
    "degrees_of_freedom = sample_size - 1\n",
    "\n",
    "# Calculate the critical t-value for a two-tailed test with alpha = 0.05\n",
    "critical_t_value = stats.t.ppf(1 - alpha / 2, degrees_of_freedom)\n",
    "\n",
    "# Calculate the p-value\n",
    "p_value = 2 * (1 - stats.t.cdf(abs(t_stat), degrees_of_freedom))\n",
    "\n",
    "# Print the results\n",
    "print(f\"T-statistic: {t_stat:.2f}\")\n",
    "print(f\"Degrees of Freedom: {degrees_of_freedom}\")\n",
    "print(f\"Critical t-value: {critical_t_value:.2f}\")\n",
    "print(f\"P-value: {p_value:.4f}\")\n",
    "\n",
    "# Compare the p-value to alpha to make a decision\n",
    "if p_value < alpha:\n",
    "    print(\"Reject the null hypothesis. There is evidence that the drug decreases blood pressure by 10 mmHg.\")\n",
    "else:\n",
    "    print(\"Fail to reject the null hypothesis. There is no evidence that the drug decreases blood pressure by 10 mmHg.\")\n"
   ]
  },
  {
   "cell_type": "markdown",
   "id": "ad08f425",
   "metadata": {},
   "source": [
    "# Q15. An electronics company produces a certain type of product with a mean weight of 5 pounds and a standard deviation of 0.5 pounds. A random sample of 25 products is taken, and the sample mean weight is found to be 4.8 pounds. Test the hypothesis that the true mean weight of the products is less than 5 pounds with a significance level of 0.01."
   ]
  },
  {
   "cell_type": "code",
   "execution_count": 5,
   "id": "ab58d64b",
   "metadata": {},
   "outputs": [
    {
     "name": "stdout",
     "output_type": "stream",
     "text": [
      "T-statistic: -2.00\n",
      "Degrees of Freedom: 24\n",
      "Critical t-value: -2.49\n",
      "P-value: 0.0285\n",
      "Fail to reject the null hypothesis. There is no evidence that the true mean weight is less than 5 pounds.\n"
     ]
    }
   ],
   "source": [
    "import scipy.stats as stats\n",
    "\n",
    "# Given data\n",
    "population_mean = 5.0        # Population mean weight\n",
    "sample_mean = 4.8           # Sample mean weight\n",
    "sample_std_dev = 0.5        # Standard deviation of the population\n",
    "sample_size = 25            # Sample size\n",
    "alpha = 0.01                # Significance level for a one-tailed test (left-tailed)\n",
    "\n",
    "# Calculate the standard error of the mean (SEM)\n",
    "sem = sample_std_dev / (sample_size ** 0.5)\n",
    "\n",
    "# Calculate the t-statistic\n",
    "t_stat = (sample_mean - population_mean) / sem\n",
    "\n",
    "# Calculate the degrees of freedom\n",
    "degrees_of_freedom = sample_size - 1\n",
    "\n",
    "# Calculate the critical t-value for a left-tailed test with alpha = 0.01\n",
    "critical_t_value = stats.t.ppf(alpha, degrees_of_freedom)\n",
    "\n",
    "# Calculate the p-value for a left-tailed test\n",
    "p_value = stats.t.cdf(t_stat, degrees_of_freedom)\n",
    "\n",
    "# Print the results\n",
    "print(f\"T-statistic: {t_stat:.2f}\")\n",
    "print(f\"Degrees of Freedom: {degrees_of_freedom}\")\n",
    "print(f\"Critical t-value: {critical_t_value:.2f}\")\n",
    "print(f\"P-value: {p_value:.4f}\")\n",
    "\n",
    "# Compare the p-value to alpha to make a decision\n",
    "if p_value < alpha:\n",
    "    print(\"Reject the null hypothesis. There is evidence that the true mean weight is less than 5 pounds.\")\n",
    "else:\n",
    "    print(\"Fail to reject the null hypothesis. There is no evidence that the true mean weight is less than 5 pounds.\")\n"
   ]
  },
  {
   "cell_type": "markdown",
   "id": "b6c18c71",
   "metadata": {},
   "source": [
    "# Q16. Two groups of students are given different study materials to prepare for a test. The first group (n1 = 30) has a mean score of 80 with a standard deviation of 10, and the second group (n2 = 40) has a mean score of 75 with a standard deviation of 8. Test the hypothesis that the population means for the two groups are equal with a significance level of 0.01."
   ]
  },
  {
   "cell_type": "code",
   "execution_count": 6,
   "id": "f618a7f2",
   "metadata": {},
   "outputs": [
    {
     "name": "stdout",
     "output_type": "stream",
     "text": [
      "T-statistic: 2.25\n",
      "Degrees of Freedom: 68\n",
      "Critical t-value: 2.65\n",
      "P-value: 0.0276\n",
      "Fail to reject the null hypothesis. There is no evidence that the population means are not equal.\n"
     ]
    }
   ],
   "source": [
    "import scipy.stats as stats\n",
    "\n",
    "# Given data for Group 1\n",
    "n1 = 30                 # Sample size for Group 1\n",
    "mean1 = 80              # Mean score for Group 1\n",
    "std_dev1 = 10           # Standard deviation for Group 1\n",
    "\n",
    "# Given data for Group 2\n",
    "n2 = 40                 # Sample size for Group 2\n",
    "mean2 = 75              # Mean score for Group 2\n",
    "std_dev2 = 8            # Standard deviation for Group 2\n",
    "\n",
    "# Significance level for the test\n",
    "alpha = 0.01\n",
    "\n",
    "# Calculate the pooled standard error\n",
    "pooled_std_error = ((std_dev1**2 / n1) + (std_dev2**2 / n2))**0.5\n",
    "\n",
    "# Calculate the t-statistic\n",
    "t_stat = (mean1 - mean2) / pooled_std_error\n",
    "\n",
    "# Calculate the degrees of freedom\n",
    "degrees_of_freedom = n1 + n2 - 2\n",
    "\n",
    "# Calculate the critical t-value for a two-tailed test with alpha = 0.01\n",
    "critical_t_value = stats.t.ppf(1 - alpha / 2, degrees_of_freedom)\n",
    "\n",
    "# Calculate the p-value for a two-tailed test\n",
    "p_value = 2 * (1 - stats.t.cdf(abs(t_stat), degrees_of_freedom))\n",
    "\n",
    "# Print the results\n",
    "print(f\"T-statistic: {t_stat:.2f}\")\n",
    "print(f\"Degrees of Freedom: {degrees_of_freedom}\")\n",
    "print(f\"Critical t-value: {critical_t_value:.2f}\")\n",
    "print(f\"P-value: {p_value:.4f}\")\n",
    "\n",
    "# Compare the p-value to alpha to make a decision\n",
    "if p_value < alpha:\n",
    "    print(\"Reject the null hypothesis. There is evidence that the population means are not equal.\")\n",
    "else:\n",
    "    print(\"Fail to reject the null hypothesis. There is no evidence that the population means are not equal.\")\n"
   ]
  },
  {
   "cell_type": "markdown",
   "id": "240aeb8b",
   "metadata": {},
   "source": [
    "# Q17. A marketing company wants to estimate the average number of ads watched by viewers during a TV program. They take a random sample of 50 viewers and find that the sample mean is 4 with a standard deviation of 1.5. Estimate the population mean with a 99% confidence interval."
   ]
  },
  {
   "cell_type": "code",
   "execution_count": 7,
   "id": "3f3ae452",
   "metadata": {},
   "outputs": [
    {
     "name": "stdout",
     "output_type": "stream",
     "text": [
      "Sample Mean: 4.00\n",
      "Sample Standard Deviation: 1.50\n",
      "Sample Size: 50\n",
      "Confidence Level: 99.00%\n",
      "Standard Error of the Mean (SEM): 0.2121\n",
      "Critical Value (Z): 2.576\n",
      "Margin of Error: 0.5465\n",
      "99% Confidence Interval: 3.4535 to 4.5465\n"
     ]
    }
   ],
   "source": [
    "import math\n",
    "\n",
    "# Given data\n",
    "sample_mean = 4.0     # Sample mean number of ads watched\n",
    "sample_std_dev = 1.5  # Sample standard deviation\n",
    "sample_size = 50      # Sample size\n",
    "confidence_level = 0.99  # 99% confidence level\n",
    "\n",
    "# Calculate the standard error of the mean (SEM)\n",
    "sem = sample_std_dev / math.sqrt(sample_size)\n",
    "\n",
    "# Calculate the critical value (Z) for a 99% confidence interval\n",
    "# For a 99% confidence level, Z is approximately 2.576 (two-tailed test)\n",
    "z_value = 2.576\n",
    "\n",
    "# Calculate the margin of error\n",
    "margin_of_error = z_value * sem\n",
    "\n",
    "# Calculate the confidence interval\n",
    "lower_bound = sample_mean - margin_of_error\n",
    "upper_bound = sample_mean + margin_of_error\n",
    "\n",
    "# Print the results\n",
    "print(\"Sample Mean: {:.2f}\".format(sample_mean))\n",
    "print(\"Sample Standard Deviation: {:.2f}\".format(sample_std_dev))\n",
    "print(\"Sample Size: {}\".format(sample_size))\n",
    "print(\"Confidence Level: {:.2f}%\".format(confidence_level * 100))\n",
    "print(\"Standard Error of the Mean (SEM): {:.4f}\".format(sem))\n",
    "print(\"Critical Value (Z): {:.3f}\".format(z_value))\n",
    "print(\"Margin of Error: {:.4f}\".format(margin_of_error))\n",
    "print(\"99% Confidence Interval: {:.4f} to {:.4f}\".format(lower_bound, upper_bound))\n"
   ]
  },
  {
   "cell_type": "code",
   "execution_count": null,
   "id": "653513e2",
   "metadata": {},
   "outputs": [],
   "source": []
  }
 ],
 "metadata": {
  "kernelspec": {
   "display_name": "Python 3 (ipykernel)",
   "language": "python",
   "name": "python3"
  },
  "language_info": {
   "codemirror_mode": {
    "name": "ipython",
    "version": 3
   },
   "file_extension": ".py",
   "mimetype": "text/x-python",
   "name": "python",
   "nbconvert_exporter": "python",
   "pygments_lexer": "ipython3",
   "version": "3.11.4"
  }
 },
 "nbformat": 4,
 "nbformat_minor": 5
}
